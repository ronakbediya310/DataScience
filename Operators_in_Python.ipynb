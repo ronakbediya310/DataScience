{
  "nbformat": 4,
  "nbformat_minor": 0,
  "metadata": {
    "colab": {
      "provenance": []
    },
    "kernelspec": {
      "name": "python3",
      "display_name": "Python 3"
    },
    "language_info": {
      "name": "python"
    }
  },
  "cells": [
    {
      "cell_type": "markdown",
      "source": [
        "**Operators in Python:**\n",
        "Operators in Python are symbols or special keywords that are used to perform operations on variables and values."
      ],
      "metadata": {
        "id": "eFZRs0iWpNDR"
      }
    },
    {
      "cell_type": "markdown",
      "source": [
        "**Author: Ronak Bediya**"
      ],
      "metadata": {
        "id": "yRhNv8f8pp8A"
      }
    },
    {
      "cell_type": "code",
      "source": [
        "## arithmetic oparations:\n",
        "## let us suppose I have 2 numbers a and b and both are of type integer\n",
        "a = 45\n",
        "b = 20\n",
        "add = a + b\n",
        "minus = a - b\n",
        "mul = a * b\n",
        "div = a / b"
      ],
      "metadata": {
        "id": "L7m-AVQUpj6m"
      },
      "execution_count": 2,
      "outputs": []
    },
    {
      "cell_type": "code",
      "source": [
        "print(add)\n",
        "print(minus)\n",
        "print(mul)\n",
        "print(div)"
      ],
      "metadata": {
        "colab": {
          "base_uri": "https://localhost:8080/"
        },
        "id": "Ko3eU7u0qIAC",
        "outputId": "1b5205f3-7fe1-4ce0-f9a1-01e19e1ab826"
      },
      "execution_count": 3,
      "outputs": [
        {
          "output_type": "stream",
          "name": "stdout",
          "text": [
            "65\n",
            "25\n",
            "900\n",
            "2.25\n"
          ]
        }
      ]
    },
    {
      "cell_type": "markdown",
      "source": [
        "Assignment operators in Python are used to assign values to variables. They combine the operation of assigning a value to a variable with a specific operation like addition, subtraction, multiplication, etc."
      ],
      "metadata": {
        "id": "iuekwEvwrLgB"
      }
    },
    {
      "cell_type": "code",
      "source": [
        "number = 5\n",
        "number += 3\n",
        "number -= 2"
      ],
      "metadata": {
        "id": "mVnIlyvMq0dg"
      },
      "execution_count": 4,
      "outputs": []
    },
    {
      "cell_type": "code",
      "source": [
        "print(number) ## 5 + 3 - 2 = 6"
      ],
      "metadata": {
        "colab": {
          "base_uri": "https://localhost:8080/"
        },
        "id": "t0c_JzOjrcjb",
        "outputId": "3ca3be4e-7123-4d1a-95b1-b5d4f0bf9246"
      },
      "execution_count": 6,
      "outputs": [
        {
          "output_type": "stream",
          "name": "stdout",
          "text": [
            "6\n"
          ]
        }
      ]
    },
    {
      "cell_type": "code",
      "source": [
        "number *=4  ## 6 * 4"
      ],
      "metadata": {
        "id": "lmj_PAgXrfup"
      },
      "execution_count": 7,
      "outputs": []
    },
    {
      "cell_type": "code",
      "source": [
        "print(number)"
      ],
      "metadata": {
        "colab": {
          "base_uri": "https://localhost:8080/"
        },
        "id": "GMgWoe6erw7E",
        "outputId": "deff62b8-92e0-428b-e077-01ed723bc700"
      },
      "execution_count": 8,
      "outputs": [
        {
          "output_type": "stream",
          "name": "stdout",
          "text": [
            "24\n"
          ]
        }
      ]
    },
    {
      "cell_type": "code",
      "source": [
        "number /= 3"
      ],
      "metadata": {
        "id": "6of4YpgkrzUq"
      },
      "execution_count": 9,
      "outputs": []
    },
    {
      "cell_type": "code",
      "source": [
        "print(number)"
      ],
      "metadata": {
        "colab": {
          "base_uri": "https://localhost:8080/"
        },
        "id": "FpCNa2uir6KK",
        "outputId": "94daeea1-9b54-40d8-ed7e-5a5eb6c7b6db"
      },
      "execution_count": 10,
      "outputs": [
        {
          "output_type": "stream",
          "name": "stdout",
          "text": [
            "8.0\n"
          ]
        }
      ]
    },
    {
      "cell_type": "code",
      "source": [
        "number **2"
      ],
      "metadata": {
        "colab": {
          "base_uri": "https://localhost:8080/"
        },
        "id": "Crj855ndr8x8",
        "outputId": "cf606868-335c-49ce-faa0-c13d7acf1b54"
      },
      "execution_count": 11,
      "outputs": [
        {
          "output_type": "execute_result",
          "data": {
            "text/plain": [
              "64.0"
            ]
          },
          "metadata": {},
          "execution_count": 11
        }
      ]
    },
    {
      "cell_type": "markdown",
      "source": [
        "**Comparision of 2 numbers**"
      ],
      "metadata": {
        "id": "RTfxNM5OsOJE"
      }
    },
    {
      "cell_type": "code",
      "source": [
        "num_1 = 45\n",
        "num_2 = 30\n",
        "print(num_1 == num_2)"
      ],
      "metadata": {
        "colab": {
          "base_uri": "https://localhost:8080/"
        },
        "id": "A-VekiYpssLG",
        "outputId": "849e2ac1-1c16-4113-ccd3-fdfe80e775e1"
      },
      "execution_count": 12,
      "outputs": [
        {
          "output_type": "stream",
          "name": "stdout",
          "text": [
            "False\n"
          ]
        }
      ]
    },
    {
      "cell_type": "markdown",
      "source": [
        "**Checking Conditions on variables:**"
      ],
      "metadata": {
        "id": "kUYmuZrrs6gu"
      }
    },
    {
      "cell_type": "code",
      "source": [
        "condition = num_1 >30 and num_2 >20"
      ],
      "metadata": {
        "id": "y5EqzT0Ks4fj"
      },
      "execution_count": 13,
      "outputs": []
    },
    {
      "cell_type": "code",
      "source": [
        "print(condition)"
      ],
      "metadata": {
        "colab": {
          "base_uri": "https://localhost:8080/"
        },
        "id": "u-1ynOdktRzG",
        "outputId": "ef38daf4-556d-4485-b8c0-b94a30a045bb"
      },
      "execution_count": 15,
      "outputs": [
        {
          "output_type": "stream",
          "name": "stdout",
          "text": [
            "True\n"
          ]
        }
      ]
    },
    {
      "cell_type": "code",
      "source": [
        "condition_2 = num_2 > 50"
      ],
      "metadata": {
        "id": "o1uO7nN6tVXA"
      },
      "execution_count": 16,
      "outputs": []
    },
    {
      "cell_type": "code",
      "source": [
        "print(condition_2)"
      ],
      "metadata": {
        "colab": {
          "base_uri": "https://localhost:8080/"
        },
        "id": "Jvz6IQRmtioe",
        "outputId": "f18f603d-6797-4425-e9a0-9965b495f5b2"
      },
      "execution_count": 17,
      "outputs": [
        {
          "output_type": "stream",
          "name": "stdout",
          "text": [
            "False\n"
          ]
        }
      ]
    },
    {
      "cell_type": "code",
      "source": [
        "condition_3 = num_1 or num_2\n",
        "print(condition_3)"
      ],
      "metadata": {
        "colab": {
          "base_uri": "https://localhost:8080/"
        },
        "id": "dAed9TAytmZ0",
        "outputId": "d7c75e43-c141-4f65-bd8d-ae187add8586"
      },
      "execution_count": 19,
      "outputs": [
        {
          "output_type": "stream",
          "name": "stdout",
          "text": [
            "45\n"
          ]
        }
      ]
    },
    {
      "cell_type": "markdown",
      "source": [
        "**Applying identity operators on 2 different list having simmilar data elements:**"
      ],
      "metadata": {
        "id": "fr2jJCmSuAx1"
      }
    },
    {
      "cell_type": "code",
      "source": [
        "x = [1, 2, 3]\n",
        "y = [1, 2, 3]\n",
        "are_same = x is y  # False\n",
        "print(are_same)"
      ],
      "metadata": {
        "colab": {
          "base_uri": "https://localhost:8080/"
        },
        "id": "LSsOat9puPlP",
        "outputId": "00b49ade-5d65-4608-ac0c-fb6415a0f764"
      },
      "execution_count": 20,
      "outputs": [
        {
          "output_type": "stream",
          "name": "stdout",
          "text": [
            "False\n"
          ]
        }
      ]
    },
    {
      "cell_type": "markdown",
      "source": [
        "**Reason:** Python creates new memory space for each list object"
      ],
      "metadata": {
        "id": "DHTXB9TDuXCq"
      }
    },
    {
      "cell_type": "markdown",
      "source": [
        "**Bitwise Operators:** Performs operations on bit level. Used for bit manupulation tasks.\n",
        "\n",
        "*   Bitwise And\n",
        "*   Bitwise OR\n",
        "\n",
        "\n"
      ],
      "metadata": {
        "id": "BwbJTBD3u-zO"
      }
    },
    {
      "cell_type": "code",
      "source": [
        "a = 5\n",
        "b = 3\n",
        "result_and = a & b\n",
        "result_or = a | b\n",
        "print(result_and) ## if both bits are one resultant bit is set 1.\n",
        "print(result_or) ## Sets each bit to 1 if at least one of the corresponding bits is 1."
      ],
      "metadata": {
        "colab": {
          "base_uri": "https://localhost:8080/"
        },
        "id": "L5RAjUfAuVLD",
        "outputId": "834915f5-df8e-4f3b-b0b9-ef25e27c2283"
      },
      "execution_count": 23,
      "outputs": [
        {
          "output_type": "stream",
          "name": "stdout",
          "text": [
            "1\n",
            "7\n"
          ]
        }
      ]
    },
    {
      "cell_type": "markdown",
      "source": [
        "\n",
        "\n",
        "*   Bitwise NOT\n",
        "*   Bitwise XOR\n",
        "\n"
      ],
      "metadata": {
        "id": "aXvU2wdZw0tg"
      }
    },
    {
      "cell_type": "code",
      "source": [
        "\n",
        "result_negation = ~a"
      ],
      "metadata": {
        "id": "N9P_s1HXv6MF"
      },
      "execution_count": 24,
      "outputs": []
    },
    {
      "cell_type": "code",
      "source": [
        "result_xor = a ^ b  ## both bits should be different"
      ],
      "metadata": {
        "id": "2hbY695yxTgG"
      },
      "execution_count": 28,
      "outputs": []
    },
    {
      "cell_type": "code",
      "source": [
        "result_left_shift = a << 1"
      ],
      "metadata": {
        "id": "CwNsrHLQxZWM"
      },
      "execution_count": 25,
      "outputs": []
    },
    {
      "cell_type": "code",
      "source": [
        "result_right_shift = a >> 1"
      ],
      "metadata": {
        "id": "CQ3-16LExxGf"
      },
      "execution_count": 26,
      "outputs": []
    },
    {
      "cell_type": "code",
      "source": [
        "print(result_xor)"
      ],
      "metadata": {
        "colab": {
          "base_uri": "https://localhost:8080/"
        },
        "id": "6Y-gsyBdx5LA",
        "outputId": "37e0959c-a69e-4374-f2f4-629a14fd77c2"
      },
      "execution_count": 29,
      "outputs": [
        {
          "output_type": "stream",
          "name": "stdout",
          "text": [
            "6\n"
          ]
        }
      ]
    },
    {
      "cell_type": "code",
      "source": [
        "print(result_left_shift)"
      ],
      "metadata": {
        "id": "8p9_7Mgax_Js",
        "outputId": "2c37e432-b9f5-4d06-cd03-d0bd6c4c906f",
        "colab": {
          "base_uri": "https://localhost:8080/"
        }
      },
      "execution_count": 30,
      "outputs": [
        {
          "output_type": "stream",
          "name": "stdout",
          "text": [
            "10\n"
          ]
        }
      ]
    },
    {
      "cell_type": "markdown",
      "source": [
        "**Q7:Use unary operators to change the sign of a number.**"
      ],
      "metadata": {
        "id": "kB0hB2OJyTpe"
      }
    },
    {
      "cell_type": "markdown",
      "source": [
        "Sign change = 2's complement"
      ],
      "metadata": {
        "id": "fC2089BcysSq"
      }
    },
    {
      "cell_type": "code",
      "source": [
        "changed_sign = ~a + 1  ## 2's complement\n",
        "print(changed_sign)"
      ],
      "metadata": {
        "id": "1tktqeX0yLbl",
        "outputId": "298e1cef-c89a-4210-bfc2-a1552872425e",
        "colab": {
          "base_uri": "https://localhost:8080/"
        }
      },
      "execution_count": 33,
      "outputs": [
        {
          "output_type": "stream",
          "name": "stdout",
          "text": [
            "-5\n"
          ]
        }
      ]
    },
    {
      "cell_type": "markdown",
      "source": [
        "**Q 8: Use the ternary operator to assign values based on conditions.**"
      ],
      "metadata": {
        "id": "62862YsIzLki"
      }
    },
    {
      "cell_type": "code",
      "source": [
        "# Assign 'Even' to result if num is even, otherwise assign 'Odd'\n",
        "num = 6\n",
        "result = \"Even\" if num % 2 == 0 else \"Odd\"\n",
        "print(result)\n"
      ],
      "metadata": {
        "id": "aL3VTGdRy9Bo",
        "outputId": "ce9ded52-9a53-45d3-bb21-bb972e182e17",
        "colab": {
          "base_uri": "https://localhost:8080/"
        }
      },
      "execution_count": 34,
      "outputs": [
        {
          "output_type": "stream",
          "name": "stdout",
          "text": [
            "Even\n"
          ]
        }
      ]
    },
    {
      "cell_type": "code",
      "source": [],
      "metadata": {
        "id": "BKO_d7D0zz4k"
      },
      "execution_count": null,
      "outputs": []
    }
  ]
}