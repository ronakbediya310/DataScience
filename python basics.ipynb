{
 "cells": [
  {
   "cell_type": "markdown",
   "id": "dc0d784b-e102-41e9-9005-a829ab3a1341",
   "metadata": {},
   "source": [
    "Q1. Who developed Python Programming Language? \n",
    "Ans:Python programming language was developed by Guido van Rossum. "
   ]
  },
  {
   "cell_type": "markdown",
   "id": "449ca052-a2c5-40a4-9fc5-a923cc6a6a13",
   "metadata": {},
   "source": [
    "Q2. Which type of Programming does Python support?\n",
    "Ans:Python supports:\n",
    "1.Procedural Programming\n",
    "2.object oriented programming\n",
    "3.functional programming\n",
    "4.scripting.\n"
   ]
  },
  {
   "cell_type": "markdown",
   "id": "4e4eb039-383c-40cc-8960-bafe0878390f",
   "metadata": {},
   "source": [
    "Q3. Is Python case sensitive when dealing with identifiers? \n",
    "Ans:yes"
   ]
  },
  {
   "cell_type": "markdown",
   "id": "9d84ecd5-5bed-44d3-a173-e11847e19d35",
   "metadata": {},
   "source": [
    "Q4. What is the correct extension of the Python file? \n",
    "Ans: .py"
   ]
  },
  {
   "cell_type": "markdown",
   "id": "d94db26d-ae28-4def-90af-cdcdd2a552ed",
   "metadata": {},
   "source": [
    "Q5. Is Python code compiled or interpreted? \n",
    "Ans:interpreted."
   ]
  },
  {
   "cell_type": "markdown",
   "id": "20532e4e-d0d0-4cdd-aa24-fa87c8a85c58",
   "metadata": {},
   "source": [
    "Q6.Name a few blocks of code used to define in Python language? \n",
    "Ans:1. conditional statements.\n",
    "    2. looping.\n",
    "    3.functions.\n",
    "    "
   ]
  },
  {
   "cell_type": "markdown",
   "id": "bd83e34c-7c9e-4616-947d-17af6596ac4f",
   "metadata": {},
   "source": [
    "Q7. State a character used to give single-line comments in Python? \n",
    "Ans:#"
   ]
  },
  {
   "cell_type": "markdown",
   "id": "32505e5c-b1be-427d-b3f1-4ad8f9391794",
   "metadata": {},
   "source": [
    "Q8.Mention functions which can help us to find the version of python that we are currently working on?\n",
    "Ans:\n",
    "import sys\n",
    "\n",
    "print(sys.version)\n"
   ]
  },
  {
   "cell_type": "markdown",
   "id": "c0f15404-35b0-4285-8135-01db34cbb3f7",
   "metadata": {},
   "source": [
    "Q9. Python supports the creation of anonymous functions at runtime, using a construct called \n",
    "Ans:lambada functions."
   ]
  },
  {
   "cell_type": "markdown",
   "id": "9bb75822-d530-42da-af45-1817bdb79042",
   "metadata": {},
   "source": [
    "Q10.What does pip stand for python? \n",
    "Ans:Pip is a command-line tool that comes bundled with Python installations starting from Python 3.4 and above. It provides a convenient way to search for packages, download them, and install them into your Python environment."
   ]
  },
  {
   "cell_type": "markdown",
   "id": "c5562725-b174-4d04-a4ae-1e87988aa9b7",
   "metadata": {},
   "source": [
    "Q11. Mention a few built-in functions in python? \n",
    "Ans :list()\n",
    "     len()\n",
    "     type()"
   ]
  },
  {
   "cell_type": "markdown",
   "id": "a4e4ed01-8e33-4e6d-b1fc-eafe32008fba",
   "metadata": {},
   "source": [
    "Q12. What is the maximum possible length of an identifier in Python? \n",
    "Ans:In Python, the maximum possible length of an identifier is not explicitly defined by the language specification. However, there are practical limitations based on the implementation and the operating system."
   ]
  },
  {
   "cell_type": "markdown",
   "id": "85fd5d3a-0f15-4622-98a5-573c0b0d3732",
   "metadata": {},
   "source": [
    "Q13. What are the benefits of using Python? \n",
    "Ans:Using Python offers several benefits that contribute to its popularity among developers. Here are some key advantages of using Python:\n",
    "\n",
    " a1. Readability and Simplicity: Python emphasizes code readability and uses a clean and expressive syntax. Its indentation-based block structure makes code visually appealing and easier to understand. Python's simplicity allows developers to write code more quickly and maintain it efficiently.\n",
    "\n",
    "a2. Large and Active Community: Python has a vast and active community of developers. This means there are numerous libraries, frameworks, and resources available to leverage and learn from. The community support and collaboration foster continuous improvement and innovation within the Python ecosystem.\n",
    "\n",
    "a3. Extensive Library Ecosystem: Python boasts a comprehensive standard library that provides modules for a wide range of tasks, from web development to data analysis, networking, and more. Additionally, Python has a vast collection of third-party libraries and frameworks, such as NumPy, Pandas, Django, Flask, and TensorFlow, which enhance its capabilities and enable efficient development across various domains.\n",
    "\n",
    "a4. Cross-platform Compatibility: Python is a platform-independent language, meaning Python code can run on different operating systems (Windows, macOS, Linux) without modifications. This portability allows developers to write code once and deploy it on multiple platforms, saving time and effort.\n",
    "\n",
    "a5. Rapid Development and Prototyping: Python's simplicity, expressiveness, and extensive libraries enable rapid development and prototyping. The language's high-level abstractions and automatic memory management contribute to faster coding and testing cycles, allowing developers to iterate quickly and deliver results in shorter timeframes.\n",
    "\n",
    "a6. Integration Capabilities: Python facilitates seamless integration with other languages and systems. It has robust support for integrating with C/C++ code through tools like Cython and ctypes. Python can also communicate with databases, web services, and other technologies, making it versatile for integration tasks.\n",
    "\n",
    "a7. Data Analysis and Scientific Computing: Python has become a go-to language for data analysis, scientific computing, and machine learning. Libraries like NumPy, Pandas, SciPy, and scikit-learn provide powerful tools for data manipulation, analysis, and modeling. Python's popularity in these domains is due to its ease of use, extensive libraries, and strong community support.\n",
    "\n",
    "a8. Scalability and Performance: While Python may not be as fast as lower-level languages like C or C++, it still offers good performance for most applications. Moreover, Python provides various options for improving performance, such as optimizing critical sections with native extensions or leveraging just-in-time (JIT) compilers like PyPy.\n",
    "\n",
    "These are just a few benefits of using Python, making it a versatile and attractive choice for a wide range of applications, from web development and scripting to data analysis, machine learning, and scientific computing."
   ]
  },
  {
   "cell_type": "markdown",
   "id": "9bb15b98-a558-443d-b2c5-40574e098e8a",
   "metadata": {},
   "source": [
    "Q14.How is memory managed in Python?\n",
    "Ans:\n",
    "Memory management in Python is primarily handled by the Python runtime environment through a mechanism known as automatic memory management or garbage collection. Python utilizes a technique called reference counting along with a cycle detection mechanism to manage memory efficiently. "
   ]
  },
  {
   "cell_type": "markdown",
   "id": "d72ec3b1-86f0-43d2-8506-18cc45172f6b",
   "metadata": {},
   "source": [
    "Q15. How to install Python on Windows and set path variables? 16. Is indentation required in python?\n",
    "Ans:\n",
    "To install Python on Windows and set up the necessary path variables, you can follow these steps:\n",
    "\n",
    "Download Python:\n",
    "\n",
    "Visit the official Python website at https://www.python.org/.\n",
    "Go to the Downloads section and choose the latest version of Python for Windows.\n",
    "Select the appropriate installer based on your system architecture (32-bit or 64-bit). Most modern systems are 64-bit.\n",
    "Click on the installer to download it.\n",
    "Run the Installer:\n",
    "\n",
    "Locate the downloaded installer file and double-click on it to run the installer.\n",
    "In the installer, make sure to check the box that says \"Add Python to PATH\" (this will automatically set up the necessary path variables).\n",
    "Select the \"Customize installation\" option if you want to customize the installation location or features. Otherwise, you can choose the default settings.\n",
    "Click on the \"Install\" button to start the installation process.\n",
    "Complete the Installation:\n",
    "\n",
    "The installer will extract and install Python on your system.\n",
    "Once the installation is complete, you'll see a \"Setup was success\n",
    " \n",
    " yess !!indentation is required in python."
   ]
  }
 ],
 "metadata": {
  "kernelspec": {
   "display_name": "Python 3 (ipykernel)",
   "language": "python",
   "name": "python3"
  },
  "language_info": {
   "codemirror_mode": {
    "name": "ipython",
    "version": 3
   },
   "file_extension": ".py",
   "mimetype": "text/x-python",
   "name": "python",
   "nbconvert_exporter": "python",
   "pygments_lexer": "ipython3",
   "version": "3.10.8"
  }
 },
 "nbformat": 4,
 "nbformat_minor": 5
}
