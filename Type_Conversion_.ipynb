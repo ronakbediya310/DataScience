{
  "nbformat": 4,
  "nbformat_minor": 0,
  "metadata": {
    "colab": {
      "provenance": []
    },
    "kernelspec": {
      "name": "python3",
      "display_name": "Python 3"
    },
    "language_info": {
      "name": "python"
    }
  },
  "cells": [
    {
      "cell_type": "markdown",
      "source": [
        "**Type Conversion in python:**\n",
        "Type conversion in Python refers to the process of converting one data type to another. Python provides built-in functions for performing type conversion."
      ],
      "metadata": {
        "id": "L_njuCImiq9b"
      }
    },
    {
      "cell_type": "markdown",
      "source": [
        "**Q1:Convert an integer to a floatig-point number.**"
      ],
      "metadata": {
        "id": "oXhMfXufmHnT"
      }
    },
    {
      "cell_type": "code",
      "source": [
        " ## floating point conversion:\n",
        "num = int(input(\"Enter a number:\"))\n",
        "float_num=float(num)\n",
        "print(float_num)\n",
        "print(type(float_num))"
      ],
      "metadata": {
        "colab": {
          "base_uri": "https://localhost:8080/"
        },
        "id": "CI-zWw94jCul",
        "outputId": "c1984294-b180-4dfc-8634-acb065fb9b4e"
      },
      "execution_count": 3,
      "outputs": [
        {
          "output_type": "stream",
          "name": "stdout",
          "text": [
            "Enter a number:45\n",
            "45.0\n",
            "<class 'float'>\n"
          ]
        }
      ]
    },
    {
      "cell_type": "markdown",
      "source": [
        "**Q2: Convert a float number to an integer number**"
      ],
      "metadata": {
        "id": "bToJzFzcmcxp"
      }
    },
    {
      "cell_type": "code",
      "source": [
        "## integer conversion:\n",
        "float_num = float(input(\"Enter a floating point number:\"))\n",
        "int_num = int(float_num)\n",
        "print(int_num)"
      ],
      "metadata": {
        "colab": {
          "base_uri": "https://localhost:8080/"
        },
        "id": "kDq3GBmejntf",
        "outputId": "b6b3b9cb-6278-447c-b6a2-de301ac66da3"
      },
      "execution_count": 4,
      "outputs": [
        {
          "output_type": "stream",
          "name": "stdout",
          "text": [
            "Enter a floating point number:46.7\n",
            "46\n"
          ]
        }
      ]
    },
    {
      "cell_type": "markdown",
      "source": [
        "**Q3: Convert a number to string.**"
      ],
      "metadata": {
        "id": "47t9Xs5qmp_u"
      }
    },
    {
      "cell_type": "code",
      "source": [
        "## String conversions:\n",
        "number = 123\n",
        "string_number = str(number)\n",
        "print(string_number )\n",
        "print(type(string_number))"
      ],
      "metadata": {
        "id": "qeDWK-b8kZhm",
        "outputId": "cf133817-436c-469d-e387-2bca214efddd",
        "colab": {
          "base_uri": "https://localhost:8080/"
        }
      },
      "execution_count": 6,
      "outputs": [
        {
          "output_type": "stream",
          "name": "stdout",
          "text": [
            "123\n",
            "<class 'str'>\n"
          ]
        }
      ]
    },
    {
      "cell_type": "markdown",
      "source": [
        "**Q4: Convrert a list to tuple**"
      ],
      "metadata": {
        "id": "T4Mg7Jqmm1bK"
      }
    },
    {
      "cell_type": "code",
      "source": [
        "## Conversion of list to tuple:\n",
        "list_data = [4, 5, 6]\n",
        "tuple_data = tuple(list_data)\n",
        "print(tuple_data)\n",
        "print(type(tuple_data))"
      ],
      "metadata": {
        "id": "rG1t0wrJky69",
        "outputId": "489c2112-cfdb-4b87-e83e-48b51e4903ad",
        "colab": {
          "base_uri": "https://localhost:8080/"
        }
      },
      "execution_count": 7,
      "outputs": [
        {
          "output_type": "stream",
          "name": "stdout",
          "text": [
            "(4, 5, 6)\n",
            "<class 'tuple'>\n"
          ]
        }
      ]
    },
    {
      "cell_type": "markdown",
      "source": [
        "**Q5: cxonvert a tuple to list.**"
      ],
      "metadata": {
        "id": "SVABPkqHnHCK"
      }
    },
    {
      "cell_type": "code",
      "source": [
        "## tuple to list\n",
        "tuple_data = (1, 2, 3)\n",
        "list_data = list(tuple_data)"
      ],
      "metadata": {
        "id": "MSOZyMmYlSbF"
      },
      "execution_count": 8,
      "outputs": []
    },
    {
      "cell_type": "markdown",
      "source": [
        "**Q 6: decimal to binary**"
      ],
      "metadata": {
        "id": "J16SP3oxnP71"
      }
    },
    {
      "cell_type": "code",
      "source": [
        "decimal_number = 10\n",
        "binary_number = bin(decimal_number)\n",
        "print(binary_number)"
      ],
      "metadata": {
        "id": "HyqyqHGmn-Ft",
        "outputId": "05413e1f-1b56-429b-8dce-87b2d11f3f01",
        "colab": {
          "base_uri": "https://localhost:8080/"
        }
      },
      "execution_count": 11,
      "outputs": [
        {
          "output_type": "stream",
          "name": "stdout",
          "text": [
            "0b1010\n"
          ]
        }
      ]
    },
    {
      "cell_type": "markdown",
      "source": [
        "**Q 7: Boolean conversions**"
      ],
      "metadata": {
        "id": "J6JpOfxhnqCW"
      }
    },
    {
      "cell_type": "code",
      "source": [
        "## boolean conversation:\n",
        "number = 67.5\n",
        "boolean_value = bool(number)\n",
        "print(boolean_value)"
      ],
      "metadata": {
        "id": "WvmHf1Tolnk5",
        "outputId": "ccd5fb0e-c57d-4307-8746-208367950b00",
        "colab": {
          "base_uri": "https://localhost:8080/"
        }
      },
      "execution_count": 10,
      "outputs": [
        {
          "output_type": "stream",
          "name": "stdout",
          "text": [
            "True\n"
          ]
        }
      ]
    },
    {
      "cell_type": "code",
      "source": [],
      "metadata": {
        "id": "miISoCAvlylV"
      },
      "execution_count": null,
      "outputs": []
    }
  ]
}