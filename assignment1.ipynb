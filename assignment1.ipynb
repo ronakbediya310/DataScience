{
 "cells": [
  {
   "cell_type": "markdown",
   "id": "4f56a8bc-20e7-41fd-99d8-6a4fce699565",
   "metadata": {},
   "source": [
    "Q1. Explain with an example each when to use a for loop and a while loop.\n",
    "ans: for loop can be used when we know the starting and ending point of any iteration meaning that we are aware about number of iteration that how many time that loop should run but in case of while loop we are not aware about  number of iterations i.e. while True.\n"
   ]
  },
  {
   "cell_type": "code",
   "execution_count": 3,
   "id": "0c982dd5-e3cf-49e7-a5c4-f8a896480a70",
   "metadata": {},
   "outputs": [
    {
     "name": "stdout",
     "output_type": "stream",
     "text": [
      "The sum is: 15\n",
      "110\n"
     ]
    }
   ],
   "source": [
    "##example of for loop\n",
    "numbers = [1, 2, 3, 4, 5]\n",
    "sum = 0\n",
    "\n",
    "for num in numbers:\n",
    "    sum += num\n",
    "\n",
    "print(\"The sum is:\", sum)\n",
    "\n",
    "#example of while loop.\n",
    "ans=10\n",
    "while(True):    \n",
    "    ans=ans+20\n",
    "    if ans>100:\n",
    "       break\n",
    "print(ans)"
   ]
  },
  {
   "cell_type": "markdown",
   "id": "fc587d1c-4538-43ae-b50c-fbfb131203bd",
   "metadata": {},
   "source": [
    "Q2. Write a python program to print the sum and product of the first 10 natural numbers using for\n",
    "and while loop."
   ]
  },
  {
   "cell_type": "code",
   "execution_count": 22,
   "id": "47154a46-5824-45a6-b8b8-2abfe4876569",
   "metadata": {},
   "outputs": [
    {
     "name": "stdout",
     "output_type": "stream",
     "text": [
      "55\n",
      "3628800\n"
     ]
    }
   ],
   "source": [
    "# for loop \n",
    "sum=0\n",
    "mul=1\n",
    "for i in range(1,11):\n",
    "    sum=sum+i\n",
    "    mul=mul*i\n",
    "print(sum)\n",
    "print(mul)"
   ]
  },
  {
   "cell_type": "code",
   "execution_count": 23,
   "id": "97d80cc6-08f0-4b4d-ba12-aee22ce71630",
   "metadata": {},
   "outputs": [
    {
     "name": "stdout",
     "output_type": "stream",
     "text": [
      "55\n",
      "3628800\n"
     ]
    }
   ],
   "source": [
    "#while loop\n",
    "sum=0\n",
    "mul=1\n",
    "count=1\n",
    "while count<=10:\n",
    "    mul=mul*count\n",
    "    sum=sum+count\n",
    "    count+=1\n",
    "print(sum)\n",
    "print(mul)"
   ]
  },
  {
   "cell_type": "markdown",
   "id": "a25d4568-71d4-4107-952a-811726959273",
   "metadata": {},
   "source": [
    "Q3. Create a python program to compute the electricity bill for a household.\n",
    "The per-unit charges in rupees are as follows: For the first 100 units, the user will be charged Rs. 4.5 per\n",
    "unit, for the next 100 units, the user will be charged Rs. 6 per unit, and for the next 100 units, the user will\n",
    "be charged Rs. 10 per unit, After 300 units and above the user will be charged Rs. 20 per unit."
   ]
  },
  {
   "cell_type": "code",
   "execution_count": 19,
   "id": "0b8f43ec-7503-413c-b4ec-82f8ae75f426",
   "metadata": {},
   "outputs": [
    {
     "name": "stdin",
     "output_type": "stream",
     "text": [
      "Enter no of unit consumed 310\n"
     ]
    },
    {
     "name": "stdout",
     "output_type": "stream",
     "text": [
      "your electricity bill is:  2250.0\n"
     ]
    }
   ],
   "source": [
    "units=int(input(\"Enter no of unit consumed\"))\n",
    "total=0\n",
    "#logic\n",
    "if units <= 100:\n",
    "        total = units * 4.5\n",
    "elif units <= 200:\n",
    "        total = 100 * 4.5 + (units - 100) * 6\n",
    "elif units <= 300:\n",
    "        total = 100 * 4.5 + 100 * 6 + (units - 200) * 10\n",
    "else:\n",
    "        total = 100 * 4.5 + 100 * 6 + 100 * 10 + (units - 300) * 20\n",
    "\n",
    "#output\n",
    "print(\"your electricity bill is: \",total)"
   ]
  },
  {
   "cell_type": "markdown",
   "id": "d3923451-3891-4691-aac2-24c85d5ea57e",
   "metadata": {},
   "source": [
    "Q4. Create a list of numbers from 1 to 100. Use for loop and while loop to calculate the cube of each\n",
    "number and if the cube of that number is divisible by 4 or 5 then append that number in a list and print\n",
    "that list."
   ]
  },
  {
   "cell_type": "code",
   "execution_count": 21,
   "id": "6a5d38e3-a08c-4523-b77b-367a151828e8",
   "metadata": {},
   "outputs": [
    {
     "name": "stdout",
     "output_type": "stream",
     "text": [
      "[2, 4, 5, 6, 8, 10, 12, 14, 15, 16, 18, 20, 22, 24, 25, 26, 28, 30, 32, 34, 35, 36, 38, 40, 42, 44, 45, 46, 48, 50, 52, 54, 55, 56, 58, 60, 62, 64, 65, 66, 68, 70, 72, 74, 75, 76, 78, 80, 82, 84, 85, 86, 88, 90, 92, 94, 95, 96, 98, 100]\n",
      "[2, 4, 5, 6, 8, 10, 12, 14, 15, 16, 18, 20, 22, 24, 25, 26, 28, 30, 32, 34, 35, 36, 38, 40, 42, 44, 45, 46, 48, 50, 52, 54, 55, 56, 58, 60, 62, 64, 65, 66, 68, 70, 72, 74, 75, 76, 78, 80, 82, 84, 85, 86, 88, 90, 92, 94, 95, 96, 98, 100]\n"
     ]
    }
   ],
   "source": [
    "numbers = list(range(1, 101))  # Create a list of numbers from 1 to 100\n",
    "\n",
    "list1 = []\n",
    "\n",
    "for num in numbers:\n",
    "    cube = num ** 3\n",
    "    if cube % 4 == 0 or cube % 5 == 0:\n",
    "        list1.append(num)\n",
    "\n",
    "print(list1)\n",
    "# same code we will do using while loop\n",
    "list2=[]\n",
    "count = 0\n",
    "while count < len(numbers):\n",
    "    num = numbers[count]\n",
    "    cube = num ** 3\n",
    "    if cube % 4 == 0 or cube % 5 == 0:\n",
    "        list2.append(num)\n",
    "    count += 1\n",
    "print(list2)\n"
   ]
  },
  {
   "cell_type": "markdown",
   "id": "dc2a6dfe-f3b8-476c-a566-7ca5fb8e51c7",
   "metadata": {},
   "source": [
    "Q5. Write a program to filter count vowels in the below-given string.\n",
    "string = \"I want to become a data scientist\""
   ]
  },
  {
   "cell_type": "code",
   "execution_count": null,
   "id": "61509a44-5119-4250-a1fb-f53f533ddfb0",
   "metadata": {},
   "outputs": [],
   "source": [
    "string = \"I want to become a data scientist\"\n",
    "\n",
    "vowels = ['a', 'e', 'i', 'o', 'u']\n",
    "count = 0\n",
    "\n",
    "for char in string:\n",
    "    if char.lower() in vowels:\n",
    "        count += 1\n",
    "\n",
    "print(\"Number of vowels:\", count)"
   ]
  }
 ],
 "metadata": {
  "kernelspec": {
   "display_name": "Python 3 (ipykernel)",
   "language": "python",
   "name": "python3"
  },
  "language_info": {
   "codemirror_mode": {
    "name": "ipython",
    "version": 3
   },
   "file_extension": ".py",
   "mimetype": "text/x-python",
   "name": "python",
   "nbconvert_exporter": "python",
   "pygments_lexer": "ipython3",
   "version": "3.10.8"
  }
 },
 "nbformat": 4,
 "nbformat_minor": 5
}
