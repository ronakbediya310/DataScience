{
  "nbformat": 4,
  "nbformat_minor": 0,
  "metadata": {
    "colab": {
      "provenance": []
    },
    "kernelspec": {
      "name": "python3",
      "display_name": "Python 3"
    },
    "language_info": {
      "name": "python"
    }
  },
  "cells": [
    {
      "cell_type": "markdown",
      "source": [
        "**Author: Ronak Bediya**"
      ],
      "metadata": {
        "id": "dbhlr2gbSzIc"
      }
    },
    {
      "cell_type": "markdown",
      "source": [
        "**Q 1: Write a program to print numbers from 1 to 10, but stop if the number is 5.**"
      ],
      "metadata": {
        "id": "6-aiI5RYS51p"
      }
    },
    {
      "cell_type": "code",
      "source": [
        "for i in range(1,11):\n",
        "  if i == 5:\n",
        "    break\n",
        "  print(i)"
      ],
      "metadata": {
        "colab": {
          "base_uri": "https://localhost:8080/"
        },
        "id": "vUcALcAoS4wb",
        "outputId": "0b3ff773-1cbd-41ec-efb9-b98430a26ffe"
      },
      "execution_count": 1,
      "outputs": [
        {
          "output_type": "stream",
          "name": "stdout",
          "text": [
            "1\n",
            "2\n",
            "3\n",
            "4\n"
          ]
        }
      ]
    },
    {
      "cell_type": "markdown",
      "source": [
        "**Q 2:Write a program to print elements of list but stop after encountering a specific element.**"
      ],
      "metadata": {
        "id": "d4dHd954Wgfp"
      }
    },
    {
      "cell_type": "code",
      "source": [
        "list_data = [1,2,3,\"RONAK\",4,5]\n",
        "for ele in  list_data:\n",
        "  if ele ==\"RONAK\":\n",
        "    break\n",
        "  print(ele)\n",
        ""
      ],
      "metadata": {
        "colab": {
          "base_uri": "https://localhost:8080/"
        },
        "id": "bY0o-QE3TlEu",
        "outputId": "4c1074ff-e603-4557-fca1-59c4e47dadb9"
      },
      "execution_count": 2,
      "outputs": [
        {
          "output_type": "stream",
          "name": "stdout",
          "text": [
            "1\n",
            "2\n",
            "3\n"
          ]
        }
      ]
    },
    {
      "cell_type": "markdown",
      "source": [
        "**Q 3: Write a program to skip printing even numbers from 1 to 10.**"
      ],
      "metadata": {
        "id": "JzWl110pXibF"
      }
    },
    {
      "cell_type": "code",
      "source": [
        "for i in range(1,11):\n",
        "  if i % 2 == 0:\n",
        "    continue\n",
        "  print(i)"
      ],
      "metadata": {
        "colab": {
          "base_uri": "https://localhost:8080/"
        },
        "id": "ROfiHWObXfsp",
        "outputId": "272a8279-0d6e-451c-85f6-57434b8a1268"
      },
      "execution_count": 3,
      "outputs": [
        {
          "output_type": "stream",
          "name": "stdout",
          "text": [
            "1\n",
            "3\n",
            "5\n",
            "7\n",
            "9\n"
          ]
        }
      ]
    },
    {
      "cell_type": "markdown",
      "source": [
        "**Q 4:Write a program to print numbers of 0 to 9 using range function.**"
      ],
      "metadata": {
        "id": "4hydu5KWYCki"
      }
    },
    {
      "cell_type": "code",
      "source": [
        "for i in range(10):\n",
        "  print(i)"
      ],
      "metadata": {
        "colab": {
          "base_uri": "https://localhost:8080/"
        },
        "id": "d56QhEX_YAax",
        "outputId": "2730f916-8bd1-440d-b6b6-8018b92cbc2b"
      },
      "execution_count": 5,
      "outputs": [
        {
          "output_type": "stream",
          "name": "stdout",
          "text": [
            "0\n",
            "1\n",
            "2\n",
            "3\n",
            "4\n",
            "5\n",
            "6\n",
            "7\n",
            "8\n",
            "9\n"
          ]
        }
      ]
    },
    {
      "cell_type": "markdown",
      "source": [
        "**Q 5: Write a program to print multiplication tables from 1 to 5, but stop after the first table is printed for each\n",
        "number.**"
      ],
      "metadata": {
        "id": "0V9YEGPdYlhJ"
      }
    },
    {
      "cell_type": "markdown",
      "source": [
        "In this question instead of first table **first row** should be best fitted, however I have implemented both solutions bellow."
      ],
      "metadata": {
        "id": "N4JMQjK3dABb"
      }
    },
    {
      "cell_type": "code",
      "source": [
        "## if we consider first table for each number. [Asked in Question]\n",
        "for i in range(1, 6):\n",
        "    print(f\"Multiplication Table for {i}:\")\n",
        "    for j in range(1, 11):\n",
        "        result = i * j\n",
        "        print(f\"{i} x {j} = {result}\")\n",
        "    print()\n",
        "    break\n"
      ],
      "metadata": {
        "colab": {
          "base_uri": "https://localhost:8080/"
        },
        "id": "S8hwqNBsdeW_",
        "outputId": "d6841c98-af85-4015-eb2b-75ee91b31289"
      },
      "execution_count": 9,
      "outputs": [
        {
          "output_type": "stream",
          "name": "stdout",
          "text": [
            "Multiplication Table for 1:\n",
            "1 x 1 = 1\n",
            "1 x 2 = 2\n",
            "1 x 3 = 3\n",
            "1 x 4 = 4\n",
            "1 x 5 = 5\n",
            "1 x 6 = 6\n",
            "1 x 7 = 7\n",
            "1 x 8 = 8\n",
            "1 x 9 = 9\n",
            "1 x 10 = 10\n",
            "\n"
          ]
        }
      ]
    },
    {
      "cell_type": "code",
      "source": [
        "## If we consider first row of each table.[ my interpretation ]\n",
        "for i in range(1, 6):\n",
        "    print(f\"Multiplication Table for {i}:\")\n",
        "    for j in range(1, 11):\n",
        "        result = i * j\n",
        "        print(f\"{i} x {j} = {result}\")\n",
        "        break\n",
        "    print()\n",
        "\n"
      ],
      "metadata": {
        "colab": {
          "base_uri": "https://localhost:8080/"
        },
        "id": "pHz6NkH9YfKE",
        "outputId": "3b04bd57-4e1a-4f6b-d2b6-9e734a1de03b"
      },
      "execution_count": 10,
      "outputs": [
        {
          "output_type": "stream",
          "name": "stdout",
          "text": [
            "Multiplication Table for 1:\n",
            "1 x 1 = 1\n",
            "\n",
            "Multiplication Table for 2:\n",
            "2 x 1 = 2\n",
            "\n",
            "Multiplication Table for 3:\n",
            "3 x 1 = 3\n",
            "\n",
            "Multiplication Table for 4:\n",
            "4 x 1 = 4\n",
            "\n",
            "Multiplication Table for 5:\n",
            "5 x 1 = 5\n",
            "\n"
          ]
        }
      ]
    },
    {
      "cell_type": "markdown",
      "source": [
        "**Q 6: Write a Program to Print numbers from 1 to 10 but skip printing even numbers using while loop.**"
      ],
      "metadata": {
        "id": "MSrgDcdtbr-W"
      }
    },
    {
      "cell_type": "code",
      "source": [
        "num = 1\n",
        "while num < 11:\n",
        "    if num % 2 == 0:\n",
        "        num += 1\n",
        "        continue\n",
        "    print(num)\n",
        "    num += 1"
      ],
      "metadata": {
        "colab": {
          "base_uri": "https://localhost:8080/"
        },
        "id": "-OVbVAq6fFRt",
        "outputId": "e2d8f807-2d5e-483b-8f68-72c0c16418d9"
      },
      "execution_count": 12,
      "outputs": [
        {
          "output_type": "stream",
          "name": "stdout",
          "text": [
            "1\n",
            "3\n",
            "5\n",
            "7\n",
            "9\n"
          ]
        }
      ]
    },
    {
      "cell_type": "code",
      "source": [],
      "metadata": {
        "id": "ZNwA0PNQfofi"
      },
      "execution_count": null,
      "outputs": []
    }
  ]
}