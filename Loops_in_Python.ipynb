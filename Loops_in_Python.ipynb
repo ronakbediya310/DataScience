{
  "nbformat": 4,
  "nbformat_minor": 0,
  "metadata": {
    "colab": {
      "provenance": []
    },
    "kernelspec": {
      "name": "python3",
      "display_name": "Python 3"
    },
    "language_info": {
      "name": "python"
    }
  },
  "cells": [
    {
      "cell_type": "markdown",
      "source": [
        "**Author: Ronak Bediya**"
      ],
      "metadata": {
        "id": "h9aMizJd9yi7"
      }
    },
    {
      "cell_type": "markdown",
      "source": [
        "**When We want to execute a block of code repeatedly. They provide a way to automate repetitive tasks and iterate over a sequence of data**"
      ],
      "metadata": {
        "id": "jQajnvKH8FXz"
      }
    },
    {
      "cell_type": "markdown",
      "source": [
        "**Q 1: Print numbers from 1 to 5 using loop.**"
      ],
      "metadata": {
        "id": "haHB6q5z99Fn"
      }
    },
    {
      "cell_type": "code",
      "source": [
        "for i in range(1,6):\n",
        "  print(i)"
      ],
      "metadata": {
        "colab": {
          "base_uri": "https://localhost:8080/"
        },
        "id": "RpBpUJnY9w5k",
        "outputId": "3774402c-2822-4cc6-8fbe-42cfdbf50494"
      },
      "execution_count": 2,
      "outputs": [
        {
          "output_type": "stream",
          "name": "stdout",
          "text": [
            "1\n",
            "2\n",
            "3\n",
            "4\n",
            "5\n"
          ]
        }
      ]
    },
    {
      "cell_type": "code",
      "source": [
        "num =1\n",
        "while(num<6):\n",
        "  print(num)\n",
        "  num+=1"
      ],
      "metadata": {
        "colab": {
          "base_uri": "https://localhost:8080/"
        },
        "id": "v4Gj4-Vz_BLG",
        "outputId": "2b1dc1cd-0b85-4033-c9ca-be89a2d0381a"
      },
      "execution_count": 3,
      "outputs": [
        {
          "output_type": "stream",
          "name": "stdout",
          "text": [
            "1\n",
            "2\n",
            "3\n",
            "4\n",
            "5\n"
          ]
        }
      ]
    },
    {
      "cell_type": "markdown",
      "source": [
        "**Q 2:  Calculate sum of numbers from 1 to 10 using while loop.**"
      ],
      "metadata": {
        "id": "8erwQw0d-lwo"
      }
    },
    {
      "cell_type": "code",
      "source": [
        "sum=0\n",
        "num=1\n",
        "while(num<11):\n",
        "  sum+=num\n",
        "  num+=1\n",
        "print(sum)"
      ],
      "metadata": {
        "colab": {
          "base_uri": "https://localhost:8080/"
        },
        "id": "clvdGO4JAB_L",
        "outputId": "39affadd-444e-4f40-8217-2c032d3583a4"
      },
      "execution_count": 5,
      "outputs": [
        {
          "output_type": "stream",
          "name": "stdout",
          "text": [
            "55\n"
          ]
        }
      ]
    },
    {
      "cell_type": "markdown",
      "source": [
        "**Q 3: Calculate factorial of a number using for loop.**"
      ],
      "metadata": {
        "id": "efsICJra_p86"
      }
    },
    {
      "cell_type": "code",
      "source": [
        "fact=1\n",
        "number=int(input(\"Enter a number:\"))\n",
        "for i in range(1,number+1):\n",
        "  fact*=i\n",
        "print(fact)"
      ],
      "metadata": {
        "colab": {
          "base_uri": "https://localhost:8080/"
        },
        "id": "Tv8V_SjrAfBX",
        "outputId": "2abeb784-e9d2-4fba-ccca-f80bf225f80c"
      },
      "execution_count": 10,
      "outputs": [
        {
          "output_type": "stream",
          "name": "stdout",
          "text": [
            "Enter a number:5\n",
            "120\n"
          ]
        }
      ]
    },
    {
      "cell_type": "markdown",
      "source": [
        "**Q 4: Calculate number of vowels in a string using for loop.**"
      ],
      "metadata": {
        "id": "4zxbJYVdBAqN"
      }
    },
    {
      "cell_type": "code",
      "source": [
        "String=\"RONAK BEDIYA \"\n",
        "count=0\n",
        "vowels=\"aeiouAEIOU\"\n",
        "for i in String:\n",
        "  if i in vowels:\n",
        "    count+=1\n",
        "print(\"The numbers of vowels in a string is:\",count)\n",
        ""
      ],
      "metadata": {
        "colab": {
          "base_uri": "https://localhost:8080/"
        },
        "id": "lf9j5PuWAvce",
        "outputId": "a28673d6-f977-4821-83cc-bc5b6c1f029c"
      },
      "execution_count": 12,
      "outputs": [
        {
          "output_type": "stream",
          "name": "stdout",
          "text": [
            "The numbers of vowels in a string is: 5\n"
          ]
        }
      ]
    },
    {
      "cell_type": "markdown",
      "source": [
        "**Q 5: Print patterns**"
      ],
      "metadata": {
        "id": "Pxd_ycTRG3vY"
      }
    },
    {
      "cell_type": "code",
      "source": [
        "rows = int(input(\"Enter the number of rows: \"))\n",
        "\n",
        "for i in range(1, rows + 1):\n",
        "    for j in range(1, i + 1):\n",
        "        print(\"*\", end=\" \")\n",
        "    print()\n"
      ],
      "metadata": {
        "id": "kvMz2_RfHF0k",
        "outputId": "3f31d5ad-88cb-4994-8af8-00b53affc11f",
        "colab": {
          "base_uri": "https://localhost:8080/"
        }
      },
      "execution_count": 21,
      "outputs": [
        {
          "output_type": "stream",
          "name": "stdout",
          "text": [
            "Enter the number of rows: 5\n",
            "* \n",
            "* * \n",
            "* * * \n",
            "* * * * \n",
            "* * * * * \n"
          ]
        }
      ]
    },
    {
      "cell_type": "markdown",
      "source": [
        "**Q 6: Generate Multiplication table using nested loops.**"
      ],
      "metadata": {
        "id": "Q9EmxTm7DZHf"
      }
    },
    {
      "cell_type": "code",
      "source": [
        "## generally we can print multiplication table using single loops only.\n",
        "## please visit bellow code\n",
        "number =8\n",
        "for i in range(1, 11):\n",
        "        result = number * i\n",
        "        print(f\"{number} * { i} = {result}\")"
      ],
      "metadata": {
        "id": "_zzarI4LE5ha",
        "outputId": "e67a837d-d530-4e45-df34-3ab5476cc559",
        "colab": {
          "base_uri": "https://localhost:8080/"
        }
      },
      "execution_count": 20,
      "outputs": [
        {
          "output_type": "stream",
          "name": "stdout",
          "text": [
            "8 * 1 = 8\n",
            "8 * 2 = 16\n",
            "8 * 3 = 24\n",
            "8 * 4 = 32\n",
            "8 * 5 = 40\n",
            "8 * 6 = 48\n",
            "8 * 7 = 56\n",
            "8 * 8 = 64\n",
            "8 * 9 = 72\n",
            "8 * 10 = 80\n"
          ]
        }
      ]
    },
    {
      "cell_type": "markdown",
      "source": [
        "**Time Complexity:O(n)**"
      ],
      "metadata": {
        "id": "ndUrwnr5Gr2G"
      }
    },
    {
      "cell_type": "code",
      "source": [
        "## we can utilize nested loops to print multiplication tables of a certain range of numbers:[1 to 5] or [8 to 12] etc.\n",
        "num = int(input(\"Enter a number: \"))\n",
        "\n",
        "for i in range(1, num + 1):\n",
        "    print(f\"Multiplication table of: {i}\")\n",
        "    for j in range(1, 11):\n",
        "        result = i * j\n",
        "        print(f\"{i} * {j} = {result}\\t\")\n",
        "    print()\n",
        ""
      ],
      "metadata": {
        "id": "nblPeFuQC6P1",
        "outputId": "9c4c0051-d1b3-4251-eb06-a29b3715b9c9",
        "colab": {
          "base_uri": "https://localhost:8080/"
        }
      },
      "execution_count": 18,
      "outputs": [
        {
          "output_type": "stream",
          "name": "stdout",
          "text": [
            "Enter a number: 5\n",
            "Multiplication table of: 1\n",
            "1 * 1 = 1\t\n",
            "1 * 2 = 2\t\n",
            "1 * 3 = 3\t\n",
            "1 * 4 = 4\t\n",
            "1 * 5 = 5\t\n",
            "1 * 6 = 6\t\n",
            "1 * 7 = 7\t\n",
            "1 * 8 = 8\t\n",
            "1 * 9 = 9\t\n",
            "1 * 10 = 10\t\n",
            "\n",
            "Multiplication table of: 2\n",
            "2 * 1 = 2\t\n",
            "2 * 2 = 4\t\n",
            "2 * 3 = 6\t\n",
            "2 * 4 = 8\t\n",
            "2 * 5 = 10\t\n",
            "2 * 6 = 12\t\n",
            "2 * 7 = 14\t\n",
            "2 * 8 = 16\t\n",
            "2 * 9 = 18\t\n",
            "2 * 10 = 20\t\n",
            "\n",
            "Multiplication table of: 3\n",
            "3 * 1 = 3\t\n",
            "3 * 2 = 6\t\n",
            "3 * 3 = 9\t\n",
            "3 * 4 = 12\t\n",
            "3 * 5 = 15\t\n",
            "3 * 6 = 18\t\n",
            "3 * 7 = 21\t\n",
            "3 * 8 = 24\t\n",
            "3 * 9 = 27\t\n",
            "3 * 10 = 30\t\n",
            "\n",
            "Multiplication table of: 4\n",
            "4 * 1 = 4\t\n",
            "4 * 2 = 8\t\n",
            "4 * 3 = 12\t\n",
            "4 * 4 = 16\t\n",
            "4 * 5 = 20\t\n",
            "4 * 6 = 24\t\n",
            "4 * 7 = 28\t\n",
            "4 * 8 = 32\t\n",
            "4 * 9 = 36\t\n",
            "4 * 10 = 40\t\n",
            "\n",
            "Multiplication table of: 5\n",
            "5 * 1 = 5\t\n",
            "5 * 2 = 10\t\n",
            "5 * 3 = 15\t\n",
            "5 * 4 = 20\t\n",
            "5 * 5 = 25\t\n",
            "5 * 6 = 30\t\n",
            "5 * 7 = 35\t\n",
            "5 * 8 = 40\t\n",
            "5 * 9 = 45\t\n",
            "5 * 10 = 50\t\n",
            "\n"
          ]
        }
      ]
    },
    {
      "cell_type": "markdown",
      "source": [
        "**Time Complexity:O(n^2)**"
      ],
      "metadata": {
        "id": "k93zL7LNGg9K"
      }
    },
    {
      "cell_type": "code",
      "source": [],
      "metadata": {
        "id": "qjGgiMB6EBZB"
      },
      "execution_count": 14,
      "outputs": []
    }
  ]
}