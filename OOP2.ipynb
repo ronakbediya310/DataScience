{
 "cells": [
  {
   "cell_type": "markdown",
   "id": "6d1f6ff9-0748-42d5-a79f-81d3a8b8efce",
   "metadata": {},
   "source": [
    "Q1. What is Abstraction in OOps? Explain with an example.\n",
    "Ans:\n",
    "Abstraction is a fundamental concept in object-oriented programming (OOP) that focuses on representing essential features and behavior of an object while hiding the unnecessary details. It allows us to create classes and objects that capture the essence of real-world entities, while abstracting away the complexity.\n",
    "\n",
    "In OOP, abstraction is achieved through the use of abstract classes and interfaces. An abstract class serves as a blueprint for other classes and cannot be instantiated itself. It defines common attributes and methods that subclasses must implement. An interface, on the other hand, defines a contract that classes must adhere to by implementing its methods."
   ]
  },
  {
   "cell_type": "code",
   "execution_count": null,
   "id": "3ae7bce9-9b2d-44a5-abdf-4bee0af97527",
   "metadata": {},
   "outputs": [],
   "source": [
    "from abc import ABC, abstractmethod\n",
    "\n",
    "class Shape(ABC):\n",
    "    @abstractmethod\n",
    "    def area(self):\n",
    "        pass\n",
    "\n",
    "class Circle(Shape):\n",
    "    def __init__(self, radius):\n",
    "        self.radius = radius\n",
    "\n",
    "    def area(self):\n",
    "        return 3.14 * self.radius * self.radius\n",
    "\n",
    "class Rectangle(Shape):\n",
    "    def __init__(self, length, width):\n",
    "        self.length = length\n",
    "        self.width = width\n",
    "\n",
    "    def area(self):\n",
    "        return self.length * self.width\n",
    "\n",
    "# Creating objects of the subclasses\n",
    "circle = Circle(5)\n",
    "rectangle = Rectangle(4, 6)\n",
    "\n",
    "# Calling the area method on the objects\n",
    "print(circle.area())  # Output: 78.5\n",
    "print(rectangle.area())  # Output: 24\n"
   ]
  },
  {
   "cell_type": "markdown",
   "id": "3b49f196-3bc6-4f9c-9a35-311296e4b39c",
   "metadata": {},
   "source": [
    "Q2. Differentiate between Abstraction and Encapsulation. Explain with an example.\n",
    "Ans:\n",
    "Abstraction focuses on representing the essential features and behavior of an object while hiding the unnecessary details. It allows us to create abstract classes or interfaces that define common attributes and methods that subclasses must implement. \n",
    "\n",
    "Encapsulation is about bundling data (attributes) and methods that operate on that data into a single unit, called a class. It ensures that the internal representation and behavior of an object are hidden from the outside world, and access to the object's data is controlled through well-defined methods. Encapsulation promotes data integrity and provides a way to enforce restrictions on how the data is accessed and modified."
   ]
  },
  {
   "cell_type": "markdown",
   "id": "c3a0a76c-2241-4665-b0d1-4743b8c81238",
   "metadata": {},
   "source": [
    "Consider a Person class that has attributes like name, age, and email. Encapsulation would involve defining private attributes (prefixed with an underscore, e.g., _name) and providing public methods (getters and setters) to access and modify these attributes. The private attributes are encapsulated within the class, and external code can only interact with them through the defined methods. This way, the internal representation of a person's data is protected, and the class can enforce any necessary validation or logic before allowing modifications."
   ]
  },
  {
   "cell_type": "markdown",
   "id": "5176f06a-8698-40f6-a19f-186d19a39814",
   "metadata": {},
   "source": [
    "Q3. What is abc module in python? Why is it used?\n",
    "Ans:In Python, the abc module provides the infrastructure for creating abstract base classes (ABCs). An abstract base class is a class that cannot be instantiated directly and is intended to be subclassed by other classes. It serves as a blueprint for defining common interfaces and behaviors that subclasses must implement.\n",
    "\n",
    "The abc module is used for defining abstract base classes and enforcing the implementation of certain methods or properties in the subclasses. It helps in achieving abstraction and providing a common interface for a group of related classes. "
   ]
  },
  {
   "cell_type": "markdown",
   "id": "bed527ca-4eac-48f0-90c9-7af3c60247fb",
   "metadata": {},
   "source": [
    "Q4. How can we achieve data abstraction?\n"
   ]
  },
  {
   "cell_type": "code",
   "execution_count": null,
   "id": "c6b2a6db-dddd-49b6-998c-ed50b39b3be0",
   "metadata": {},
   "outputs": [],
   "source": [
    "class Person:\n",
    "    def __init__(self, name, age):\n",
    "        self._name = name  # Private attribute\n",
    "        self._age = age  # Private attribute\n",
    "\n",
    "    def get_name(self):\n",
    "        return self._name\n",
    "\n",
    "    def set_name(self, name):\n",
    "        self._name = name\n",
    "\n",
    "    def get_age(self):\n",
    "        return self._age\n",
    "\n",
    "    def set_age(self, age):\n",
    "        if age >= 0:\n",
    "            self._age = age\n",
    "        else:\n",
    "            print(\"Invalid age\")\n",
    "\n",
    "# Create an object of the Person class\n",
    "person = Person(\"John\", 25)\n",
    "\n",
    "# Access the data through methods\n",
    "print(person.get_name())  # Output: John\n",
    "person.set_name(\"Alice\")\n",
    "print(person.get_name())  # Output: Alice\n",
    "\n",
    "print(person.get_age())  # Output: 25\n",
    "person.set_age(30)\n",
    "print(person.get_age())  # Output: 30\n",
    "\n",
    "person.set_age(-5)  # Invalid age message will be printed\n",
    "print(person.get_age())  # Output: 30 (age remains unchanged)\n",
    "\n"
   ]
  },
  {
   "cell_type": "markdown",
   "id": "ad0785f6-e70b-456a-834a-31a6670d4e82",
   "metadata": {},
   "source": [
    "Q5. Can we create an instance of an abstract class? Explain your answer.\n",
    "Ans:No, we can not create we can only give reference of abstract class."
   ]
  },
  {
   "cell_type": "code",
   "execution_count": null,
   "id": "ceb029c4-845f-46bd-9681-948d84f75637",
   "metadata": {},
   "outputs": [],
   "source": [
    "from abc import ABC, abstractmethod\n",
    "\n",
    "class AbstractClass(ABC):\n",
    "    @abstractmethod\n",
    "    def abstract_method(self):\n",
    "        pass\n",
    "\n",
    "# Trying to create an instance of the abstract class\n",
    "instance = AbstractClass()  # Raises TypeError: Can't instantiate abstract class AbstractClass with abstract methods abstract_method\n"
   ]
  },
  {
   "cell_type": "code",
   "execution_count": null,
   "id": "649ba836-40db-4e62-b72d-d1e4702eb2ce",
   "metadata": {},
   "outputs": [],
   "source": []
  },
  {
   "cell_type": "code",
   "execution_count": null,
   "id": "2eee7881-552d-43c2-8552-347e65932922",
   "metadata": {},
   "outputs": [],
   "source": [
    "Assignment completed thank "
   ]
  }
 ],
 "metadata": {
  "kernelspec": {
   "display_name": "Python 3 (ipykernel)",
   "language": "python",
   "name": "python3"
  },
  "language_info": {
   "codemirror_mode": {
    "name": "ipython",
    "version": 3
   },
   "file_extension": ".py",
   "mimetype": "text/x-python",
   "name": "python",
   "nbconvert_exporter": "python",
   "pygments_lexer": "ipython3",
   "version": "3.10.8"
  }
 },
 "nbformat": 4,
 "nbformat_minor": 5
}
