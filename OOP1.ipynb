{
 "cells": [
  {
   "cell_type": "markdown",
   "id": "f388ffde-2b87-4da9-b4c2-dce9f75799f1",
   "metadata": {},
   "source": [
    "Q1.Explain Class and Object with respect to Object-Oriented Programming. Give a suitable example.\n",
    "Ans:\n",
    "In object-oriented programming (OOP), a class is a blueprint or template that defines the structure and behavior of objects. It is a programming construct that encapsulates data (attributes) and functions (methods) related to a specific entity or concept.\n",
    "\n",
    "An object, on the other hand, is an instance of a class. It is a concrete realization of the class, representing a specific entity with its own unique state and behavior. Objects are created from classes, and each object can have its own set of values for the attributes defined in the class.\n"
   ]
  },
  {
   "cell_type": "code",
   "execution_count": null,
   "id": "69515f8f-3c69-4522-80df-8eb1b12496e1",
   "metadata": {},
   "outputs": [],
   "source": [
    "class Car:\n",
    "    def __init__(self, make, model, year):\n",
    "        self.make = make\n",
    "        self.model = model\n",
    "        self.year = year\n",
    "        self.speed = 0\n",
    "\n",
    "    def accelerate(self, increment):\n",
    "        self.speed += increment\n",
    "\n",
    "    def brake(self, decrement):\n",
    "        self.speed -= decrement\n",
    "\n",
    "    def display_speed(self):\n",
    "        print(\"Current speed:\", self.speed)\n",
    "\n",
    "# Creating objects (instances) of the Car class\n",
    "car1 = Car(\"Toyota\", \"Corolla\", 2022)\n",
    "car2 = Car(\"Honda\", \"Civic\", 2023)\n",
    "\n",
    "# Accessing attributes of objects\n",
    "print(car1.make, car1.model, car1.year)  # Output: Toyota Corolla 2022\n",
    "print(car2.make, car2.model, car2.year)  # Output: Honda Civic 2023\n",
    "\n",
    "# Invoking methods on objects\n",
    "car1.accelerate(30)\n",
    "car1.display_speed()  # Output: Current speed: 30\n",
    "\n",
    "car2.accelerate(20)\n",
    "car2.display_speed()  # Output: Current speed: 20\n"
   ]
  },
  {
   "cell_type": "markdown",
   "id": "8100aea3-8bb5-45a5-9a93-54781e5b9cac",
   "metadata": {},
   "source": [
    "Q2. Name the four pillars of OOPs.\n",
    "Ans:\n",
    "1.inheritance\n",
    "2.encapsulation\n",
    "3.polymorphism\n",
    "4.Abstraction."
   ]
  },
  {
   "cell_type": "markdown",
   "id": "e11a8ace-b767-4b1c-9467-49db378d39ac",
   "metadata": {},
   "source": [
    "Q3. Explain why the __init__() function is used. Give a suitable example.\n",
    "Ans: it is used to initialize the objects.\n",
    "it works same as constructor in java.\n"
   ]
  },
  {
   "cell_type": "code",
   "execution_count": null,
   "id": "aad0d9f4-9a9b-4459-9e80-ed16c5f87097",
   "metadata": {},
   "outputs": [],
   "source": [
    "class Person:\n",
    "    def __init__(self, name, age):\n",
    "        self.name = name\n",
    "        self.age = age"
   ]
  },
  {
   "cell_type": "markdown",
   "id": "71cd710f-546b-47fb-aa92-82e24f96263b",
   "metadata": {},
   "source": [
    "Q4. Why self is used in OOPs?\n",
    "Ans:In object-oriented programming (OOP), self is a convention used to refer to the instance of a class within the class's methods. It is a reference to the object itself and allows the methods to access and manipulate the object's attributes and other methods. The use of self helps in distinguishing between instance variables and local variables within a class."
   ]
  },
  {
   "cell_type": "markdown",
   "id": "a2b6c1c4-af64-4745-8c1b-90cb844a452e",
   "metadata": {},
   "source": [
    "Q5. What is inheritance? Give an example for each type of inheritance.\n",
    "Ans:Inheritance is a fundamental concept in object-oriented programming (OOP) that allows a class to inherit properties (attributes and methods) from another class. The class that inherits is called the subclass or derived class, and the class being inherited from is called the superclass or base class. Inheritance promotes code reuse and facilitates the creation of hierarchical relationships between classes.\n"
   ]
  },
  {
   "cell_type": "code",
   "execution_count": null,
   "id": "c0b58bbb-778c-47ef-a337-65c1269c7839",
   "metadata": {},
   "outputs": [],
   "source": [
    "# single\n",
    "class Animal:\n",
    "    def eat(self):\n",
    "        print(\"Eating...\")\n",
    "\n",
    "class Dog(Animal):\n",
    "    def bark(self):\n",
    "        print(\"Barking...\")\n",
    "\n",
    "# Creating an object of the Dog class\n",
    "dog = Dog()\n",
    "dog.eat()  # Inherited method\n",
    "dog.bark()  # Subclass-specific method\n"
   ]
  },
  {
   "cell_type": "code",
   "execution_count": null,
   "id": "cc5e30be-3041-40a9-8dfe-4f5f7bdfb8de",
   "metadata": {},
   "outputs": [],
   "source": [
    "#multiple\n",
    "class A:\n",
    "    def method_A(self):\n",
    "        print(\"Method A\")\n",
    "\n",
    "class B:\n",
    "    def method_B(self):\n",
    "        print(\"Method B\")\n",
    "\n",
    "class C(A, B):\n",
    "    def method_C(self):\n",
    "        print(\"Method C\")\n",
    "\n",
    "# Creating an object of the C class\n",
    "c = C()\n",
    "c.method_A()  # Inherited method from class A\n",
    "c.method_B()  # Inherited method from class B\n",
    "c.method_C()  # Subclass-specific method\n"
   ]
  },
  {
   "cell_type": "code",
   "execution_count": null,
   "id": "76c5f855-1d34-4fd3-bb38-380b828d9003",
   "metadata": {},
   "outputs": [],
   "source": [
    "#multilevel\n",
    "class Vehicle:\n",
    "    def drive(self):\n",
    "        print(\"Driving...\")\n",
    "\n",
    "class Car(Vehicle):\n",
    "    def park(self):\n",
    "        print(\"Parking...\")\n",
    "\n",
    "class SportsCar(Car):\n",
    "    def race(self):\n",
    "        print(\"Racing...\")\n",
    "\n",
    "# Creating an object of the SportsCar class\n",
    "sports_car = SportsCar()\n",
    "sports_car.drive()  # Inherited method from Vehicle\n",
    "sports_car.park()  # Inherited method from Car\n",
    "sports_car.race()  # Subclass-specific method\n"
   ]
  },
  {
   "cell_type": "code",
   "execution_count": null,
   "id": "dbeaa656-8a9c-462c-8d07-58361d351532",
   "metadata": {},
   "outputs": [],
   "source": [
    "# hi\n",
    "class Shape:\n",
    "    def area(self):\n",
    "        print(\"Calculating area...\")\n",
    "\n",
    "class Circle(Shape):\n",
    "    def draw(self):\n",
    "        print(\"Drawing circle...\")\n",
    "\n",
    "class Rectangle(Shape):\n",
    "    def\n"
   ]
  }
 ],
 "metadata": {
  "kernelspec": {
   "display_name": "Python 3 (ipykernel)",
   "language": "python",
   "name": "python3"
  },
  "language_info": {
   "codemirror_mode": {
    "name": "ipython",
    "version": 3
   },
   "file_extension": ".py",
   "mimetype": "text/x-python",
   "name": "python",
   "nbconvert_exporter": "python",
   "pygments_lexer": "ipython3",
   "version": "3.10.8"
  }
 },
 "nbformat": 4,
 "nbformat_minor": 5
}
