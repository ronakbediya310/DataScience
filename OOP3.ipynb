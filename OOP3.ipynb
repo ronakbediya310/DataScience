{
 "cells": [
  {
   "cell_type": "markdown",
   "id": "e2bd01f9-0f64-4ef9-aa1a-f71144fe797c",
   "metadata": {},
   "source": [
    "Q1, Create a vehicle class with an init method having instance variables as name_of_vehicle, max_speed\n",
    "and average_of_vehicle."
   ]
  },
  {
   "cell_type": "code",
   "execution_count": null,
   "id": "a7612f1e-c257-436e-81be-00a5edf9f5cb",
   "metadata": {},
   "outputs": [],
   "source": [
    "class Vehicle:\n",
    "    def __init__(self, name_of_vehicle, max_speed, average_of_vehicle):\n",
    "        self.name_of_vehicle = name_of_vehicle\n",
    "        self.max_speed = max_speed\n",
    "        self.average_of_vehicle = average_of_vehicle\n",
    "\n",
    "\n"
   ]
  },
  {
   "cell_type": "markdown",
   "id": "9f4f81cf-2199-4044-8ded-267d332beb0b",
   "metadata": {},
   "source": [
    "Q2. Create a child class car from the vehicle class created in Que 1, which will inherit the vehicle class.\n",
    "Create a method named seating_capacity which takes capacity as an argument and returns the name of\n",
    "the vehicle and its seating capacity."
   ]
  },
  {
   "cell_type": "code",
   "execution_count": null,
   "id": "e28b2c61-db0d-484b-833b-518716752cab",
   "metadata": {},
   "outputs": [],
   "source": [
    "class Car(Vehicle):\n",
    "    def seating_capacity(self, capacity):\n",
    "        return f\"The {self.name_of_vehicle} has a seating capacity of {capacity}.\""
   ]
  },
  {
   "cell_type": "markdown",
   "id": "363e4dec-f170-445c-a89b-11633804724b",
   "metadata": {},
   "source": [
    "Q3. What is multiple inheritance? Write a python code to demonstrate multiple inheritance."
   ]
  },
  {
   "cell_type": "code",
   "execution_count": null,
   "id": "7a66d5fb-a8cc-4335-ad20-f1a124644e4f",
   "metadata": {},
   "outputs": [],
   "source": [
    "#  multiple inheritance is a feature in object-oriented programming \n",
    "#  where a class can inherit characteristics and behaviors from multiple parent classes. In multiple inheritance,\n",
    "#  a child class can inherit attributes and methods  from more than one parent class.\n",
    "class Vehicle:\n",
    "    def __init__(self, name):\n",
    "        self.name = name\n",
    "\n",
    "    def drive(self):\n",
    "        print(f\"{self.name} is being driven.\")\n",
    "\n",
    "class Flyable:\n",
    "    def fly(self):\n",
    "        print(f\"{self.name} is flying.\")\n",
    "\n",
    "class Car(Vehicle):\n",
    "    def __init__(self, name):\n",
    "        super().__init__(name)\n",
    "\n",
    "class Airplane(Vehicle, Flyable):\n",
    "    def __init__(self, name):\n",
    "        super().__init__(name)\n",
    "\n",
    "# Creating an instance of the Car class\n",
    "car = Car(\"Car\")\n",
    "car.drive()"
   ]
  },
  {
   "cell_type": "markdown",
   "id": "13ba8192-114b-4f11-bbea-577623c32c30",
   "metadata": {},
   "source": [
    "Q4. What are getter and setter in python? Create a class and create a getter and a setter method in this\n",
    "class."
   ]
  },
  {
   "cell_type": "markdown",
   "id": "825d20c8-da7a-4f40-9aad-14dbf498b219",
   "metadata": {},
   "source": [
    "In Python, getter and setter methods are used to control access to the attributes (variables) of a class. They provide a way to retrieve the value of an attribute (getter) and modify the value of an attribute (setter) while also enforcing any necessary validations or computations."
   ]
  },
  {
   "cell_type": "code",
   "execution_count": null,
   "id": "5d268e79-605a-4a5a-9f2c-de959387ce1b",
   "metadata": {},
   "outputs": [],
   "source": [
    "class Person:\n",
    "    def __init__(self, name):\n",
    "        self._name = name\n",
    "\n",
    "    def get_name(self):\n",
    "        return self._name\n",
    "\n",
    "    def set_name(self, name):\n",
    "        if isinstance(name, str):\n",
    "            self._name = name\n",
    "        else:\n",
    "            raise TypeError(\"Name must be a string.\")\n",
    "\n",
    "# Creating an instance of the Person class\n",
    "person = Person(\"John Doe\")\n",
    "\n",
    "# Using the getter method to retrieve the value\n",
    "print(person.get_name())    # Output: John Doe\n",
    "\n",
    "# Using the setter method to modify the value\n",
    "person.set_name(\"Jane Doe\")\n",
    "print(person.get_name())    # Output: Jane Doe\n",
    "\n",
    "# Trying to set an invalid value\n",
    "person.set_name(42)         # Raises TypeError: Name must be a string.\n"
   ]
  },
  {
   "cell_type": "markdown",
   "id": "ab16b8ad-8894-420f-9556-e978f03ec9f9",
   "metadata": {},
   "source": [
    "Q5.What is method overriding in python? Write a python code to demonstrate method overriding.\n",
    "\n",
    "\n",
    "Ans:"
   ]
  },
  {
   "cell_type": "code",
   "execution_count": null,
   "id": "cf24651e-86a3-4d77-afb0-776e4137fba7",
   "metadata": {},
   "outputs": [],
   "source": [
    "class Shape:\n",
    "    def calculate_area(self):\n",
    "        print(\"Calculating area of the shape.\")\n",
    "\n",
    "class Rectangle(Shape):\n",
    "    def calculate_area(self):\n",
    "        length = 5\n",
    "        width = 3\n",
    "        area = length * width\n",
    "        print(f\"The area of the rectangle is: {area}\")\n",
    "\n",
    "# Creating an instance of the Rectangle class\n",
    "rectangle = Rectangle()\n",
    "\n",
    "# Calling the overridden method\n",
    "rectangle.calculate_area()\n"
   ]
  }
 ],
 "metadata": {
  "kernelspec": {
   "display_name": "Python 3 (ipykernel)",
   "language": "python",
   "name": "python3"
  },
  "language_info": {
   "codemirror_mode": {
    "name": "ipython",
    "version": 3
   },
   "file_extension": ".py",
   "mimetype": "text/x-python",
   "name": "python",
   "nbconvert_exporter": "python",
   "pygments_lexer": "ipython3",
   "version": "3.10.8"
  }
 },
 "nbformat": 4,
 "nbformat_minor": 5
}
