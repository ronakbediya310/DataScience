{
  "nbformat": 4,
  "nbformat_minor": 0,
  "metadata": {
    "colab": {
      "provenance": []
    },
    "kernelspec": {
      "name": "python3",
      "display_name": "Python 3"
    },
    "language_info": {
      "name": "python"
    }
  },
  "cells": [
    {
      "cell_type": "markdown",
      "source": [
        "**Author: Ronak Bediya**"
      ],
      "metadata": {
        "id": "6T0ZMJuSJIls"
      }
    },
    {
      "cell_type": "markdown",
      "source": [
        "**Q 1: Explain  the significance of Python keywords and provide examples of five keywords**"
      ],
      "metadata": {
        "id": "Kv4NTqlTJSqV"
      }
    },
    {
      "cell_type": "markdown",
      "source": [
        "Keywords in Python are reserved words that have a special meaning and cannot be used as identifiers (variable names, function names, etc.). These keywords define the syntax and structure of the Python language. They are essential for writing correct and meaningful Python code."
      ],
      "metadata": {
        "id": "XZHdQXf0Jm7X"
      }
    },
    {
      "cell_type": "markdown",
      "source": [
        " Examples of 5 python keywords:\n",
        "\n",
        "\n",
        "1.   if and else     : Used for conditional statements. if is used to execute a block of code if a certain condition is true, and else is used to execute a block of code if the condition is false.\n",
        "\n",
        "2.   for and while   : Used for creating loops. for is commonly used for iterating over a sequence, and while is used for executing a block of code as long as a certain condition is true.\n",
        "3.   def             : Used to define functions. Functions are blocks of reusable code that can be called with a specific set of arguments.\n",
        "4.   return          : Used to exit a function and return a value.\n",
        "5.  class            : Used to define a class in object-oriented programming. A class is a blueprint for creating objects, which are instances of the class.\n",
        "\n",
        "\n",
        "\n"
      ],
      "metadata": {
        "id": "i2fo4UapJrrS"
      }
    },
    {
      "cell_type": "markdown",
      "source": [
        "**Q 2:  Describe the rules for defining identifiers in Python and provide an example**"
      ],
      "metadata": {
        "id": "dqyP-TNfLjJ4"
      }
    },
    {
      "cell_type": "markdown",
      "source": [
        "\n",
        "\n",
        "1. An identifier can consist of letters (both uppercase and lowercase), digits, and underscore _.\n",
        "2. It must start with a letter (a-z, A-Z) or an underscore.\n",
        "3. Names of identifiers are case sensitive.\n",
        "4. We can not use any python keywords to provide name of an identifier.\n",
        "5. Spaces are not allowed.\n",
        "6. Special characters are not allowed (i.e. @)\n",
        "\n",
        "\n"
      ],
      "metadata": {
        "id": "LkpiDUrrLzlR"
      }
    },
    {
      "cell_type": "code",
      "source": [
        "## examples\n",
        "a=10\n",
        "name= \"RONAK\"\n",
        "name_1 =\"RONAK BEDIYA\""
      ],
      "metadata": {
        "id": "neASLnHxJPBT"
      },
      "execution_count": 1,
      "outputs": []
    },
    {
      "cell_type": "markdown",
      "source": [
        "**Q 3:What are comments in Python, and why are they useful Provide an example**"
      ],
      "metadata": {
        "id": "y02wzzAqNQMN"
      }
    },
    {
      "cell_type": "markdown",
      "source": [
        "Comments are basically helpul to developers to understand the functional working of a block of code.\n",
        "\n",
        "\n",
        "1.   Comment starts with # character.\n",
        "2.   Comments are not executed by python interpreter.\n",
        "3.   Comments make code more readable.\n",
        "4.   Comments can be used to clarify the intent behind certain decisions or implementations, making it easier for others to follow the thought process.\n",
        "5.   Comments are often used to mark places in the code where future improvements or additional work is needed. This helps to create a to-do list within the code.\n",
        "6.  Comments can be used to temporarily disable a piece of code without removing it entirely. This is useful during debugging or testing.\n",
        "7. Comments can include information about the author, date of creation, modification history, or any other metadata related to the code.\n",
        "\n"
      ],
      "metadata": {
        "id": "Io43e3yZNm1t"
      }
    },
    {
      "cell_type": "code",
      "source": [
        "## This Code is wrriten by RONAK BEDIYA.\n",
        "my_name =\"RONAK BEDIYA \"\n",
        "print(my_name)"
      ],
      "metadata": {
        "colab": {
          "base_uri": "https://localhost:8080/"
        },
        "id": "d6RYsNdzNLGJ",
        "outputId": "aea326c6-c5d6-4778-ab2f-bdd63805fb79"
      },
      "execution_count": 2,
      "outputs": [
        {
          "output_type": "stream",
          "name": "stdout",
          "text": [
            "RONAK BEDIYA \n"
          ]
        }
      ]
    },
    {
      "cell_type": "markdown",
      "source": [
        "**Q 4:  Why is proper indentation important in Python?**"
      ],
      "metadata": {
        "id": "kVJufpANPL5U"
      }
    },
    {
      "cell_type": "markdown",
      "source": [
        "Proper indentation is crucial in Python because it is used to define the structure and scope of the code. Unlike some other programming languages that use braces {} to indicate blocks of code, Python relies on indentation to determine the grouping of statements.\n",
        "\n",
        "\n",
        "1.   Indentation enhances code readability by visually representing the structure of the code. It helps developers quickly identify blocks of code, such as loops, conditional statements, and function definitions.\n",
        "2.   Indentation determines the scope of variables and the extent of the effect of statements. Statements indented at a higher level are considered outside the scope of statements at a lower level.\n",
        "3.  Consistent and standardized indentation throughout a codebase makes it easier for multiple developers to collaborate on a project. It reduces confusion and promotes a consistent coding style.\n",
        "4. Proper indentation helps avoid ambiguity in the code. It makes it clear which statements are part of a particular block and which are not.\n",
        "5. Incorrect indentation can lead to syntax errors or logical errors in the code. Proper indentation assists in quickly identifying and fixing issues during development.\n",
        "\n"
      ],
      "metadata": {
        "id": "OO_i1i5XPfIL"
      }
    },
    {
      "cell_type": "markdown",
      "source": [
        "**Q 5: What  happens if indentation is incorrect in Python?**"
      ],
      "metadata": {
        "id": "i0nhBu55QHIf"
      }
    },
    {
      "cell_type": "markdown",
      "source": [
        "**Indentation Errror occurs:** If the indentation is inconsistent or doesn't follow the expected structure, Python will raise an IndentationError.\n",
        "\n",
        "\n",
        "*   Incorrect indentation can cause the code to be interpreted differently than intended. Statements that should be part of a specific block may end up outside of it, leading to unexpected behavior.\n",
        "*   Incorrect indentation can lead to variable scope issues, making variables inaccessible where they should be accessible or vice versa.\n",
        "*   Debugging becomes more challenging when indentation is inconsistent.\n",
        "\n",
        "\n",
        "\n",
        "\n"
      ],
      "metadata": {
        "id": "4c-zGJmCQZhe"
      }
    },
    {
      "cell_type": "markdown",
      "source": [
        "**Q 6:Differentiate between expression and statement in Python with examples**"
      ],
      "metadata": {
        "id": "ZfFaNcsxRZYH"
      }
    },
    {
      "cell_type": "markdown",
      "source": [
        "An expression is a combination of values, variables, operators, and function calls that results in a value when evaluated. In other words, an expression represents a computation and can be thought of as something that produces a value."
      ],
      "metadata": {
        "id": "vcUoSH7xR_Ru"
      }
    },
    {
      "cell_type": "markdown",
      "source": [
        "A statement is a complete line of code that performs an action. Statements are typically instructions that the Python interpreter can execute. Statements can include expressions, but not all statements are expressions."
      ],
      "metadata": {
        "id": "3zgFXW0RSFss"
      }
    },
    {
      "cell_type": "code",
      "source": [
        "# Arithmetic expression\n",
        "result = 3 + 5 * 2  # result is an expression\n",
        "\n",
        "# Function call expression\n",
        "length = len(\"Hello\")  # len(\"Hello\") is an expression\n",
        "\n",
        "# List comprehension expression\n",
        "squares = [x**2 for x in range(5)]  # x**2 is an expression\n",
        "\n"
      ],
      "metadata": {
        "id": "VXOg4dm4PJxP"
      },
      "execution_count": 3,
      "outputs": []
    },
    {
      "cell_type": "code",
      "source": [
        "# Assignment statement\n",
        "x = 10\n",
        "\n",
        "# Conditional statement (if-else)\n",
        "if x > 0:\n",
        "    print(\"Positive\")\n",
        "else:\n",
        "    print(\"Non-positive\")\n",
        "\n",
        "# Loop statement (while)\n",
        "while x > 0:\n",
        "    print(x)\n",
        "    x -= 1\n",
        "\n",
        "# Function definition statement\n",
        "def greet(name):\n",
        "    print(\"Hello, \" + name + \"!\")\n"
      ],
      "metadata": {
        "colab": {
          "base_uri": "https://localhost:8080/"
        },
        "id": "-JoRtOO7R6cf",
        "outputId": "1e1a3a78-0407-445c-edc9-09b747c2a417"
      },
      "execution_count": 4,
      "outputs": [
        {
          "output_type": "stream",
          "name": "stdout",
          "text": [
            "Positive\n",
            "10\n",
            "9\n",
            "8\n",
            "7\n",
            "6\n",
            "5\n",
            "4\n",
            "3\n",
            "2\n",
            "1\n"
          ]
        }
      ]
    },
    {
      "cell_type": "code",
      "source": [],
      "metadata": {
        "id": "x6GLvkY4R8M8"
      },
      "execution_count": null,
      "outputs": []
    }
  ]
}